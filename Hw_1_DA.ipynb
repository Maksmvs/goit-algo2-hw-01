{
  "nbformat": 4,
  "nbformat_minor": 0,
  "metadata": {
    "colab": {
      "provenance": []
    },
    "kernelspec": {
      "name": "python3",
      "display_name": "Python 3"
    },
    "language_info": {
      "name": "python"
    }
  },
  "cells": [
    {
      "cell_type": "markdown",
      "source": [
        "Завдання 1:\n",
        "Пошук максимального та мінімального елементів"
      ],
      "metadata": {
        "id": "fg0nvYMcPYDI"
      }
    },
    {
      "cell_type": "code",
      "execution_count": null,
      "metadata": {
        "id": "xzmW5wuXNK_o"
      },
      "outputs": [],
      "source": [
        "def find_min_max(arr):\n",
        "    if len(arr) == 1:\n",
        "        return arr[0], arr[0]\n",
        "    if len(arr) == 2:\n",
        "        return min(arr[0], arr[1]), max(arr[0], arr[1])\n",
        "\n",
        "    mid = len(arr) // 2\n",
        "    left_min, left_max = find_min_max(arr[:mid])\n",
        "    right_min, right_max = find_min_max(arr[mid:])\n",
        "\n",
        "    return min(left_min, right_min), max(left_max, right_max)\n",
        "\n",
        "n = int(input(\"Введіть кількість елементів у масиві: \"))\n",
        "print(\"Введіть елементи масиву через пробіл:\")\n",
        "arr = list(map(int, input().split()))\n",
        "\n",
        "if len(arr) != n:\n",
        "    print(\"Кількість введених елементів не відповідає зазначеній кількості.\")\n",
        "else:\n",
        "    min_val, max_val = find_min_max(arr)\n",
        "    print(f\"Мінімум: {min_val}, Максимум: {max_val}\")\n"
      ]
    },
    {
      "cell_type": "markdown",
      "source": [
        "Завдання 2: Пошук k-го найменшого елемента"
      ],
      "metadata": {
        "id": "u-0AE0R4P0m_"
      }
    },
    {
      "cell_type": "code",
      "source": [
        "import random\n",
        "\n",
        "def quick_select(arr, k):\n",
        "\n",
        "    if len(arr) == 1:\n",
        "        return arr[0]\n",
        "\n",
        "    pivot = random.choice(arr)\n",
        "\n",
        "    left = [x for x in arr if x < pivot]\n",
        "    equal = [x for x in arr if x == pivot]\n",
        "    right = [x for x in arr if x > pivot]\n",
        "\n",
        "    if k <= len(left):\n",
        "        return quick_select(left, k)\n",
        "    elif k <= len(left) + len(equal):\n",
        "        return pivot\n",
        "    else:\n",
        "        return quick_select(right, k - len(left) - len(equal))\n",
        "\n",
        "n = int(input(\"Введіть кількість елементів у масиві: \"))\n",
        "print(\"Введіть елементи масиву через пробіл:\")\n",
        "arr = list(map(int, input().split()))\n",
        "\n",
        "if len(arr) != n:\n",
        "    print(\"Кількість введених елементів не відповідає зазначеній кількості.\")\n",
        "else:\n",
        "    k = int(input(\"Введіть значення k (1-індексація): \"))\n",
        "    if k < 1 or k > n:\n",
        "        print(\"k має бути в діапазоні від 1 до кількості елементів масиву.\")\n",
        "    else:\n",
        "        result = quick_select(arr, k)\n",
        "        print(f\"{k}-й найменший елемент: {result}\")\n"
      ],
      "metadata": {
        "id": "1skHcd31P0So"
      },
      "execution_count": null,
      "outputs": []
    }
  ]
}